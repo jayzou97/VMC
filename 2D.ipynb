{
 "metadata": {
  "language_info": {
   "codemirror_mode": {
    "name": "ipython",
    "version": 3
   },
   "file_extension": ".py",
   "mimetype": "text/x-python",
   "name": "python",
   "nbconvert_exporter": "python",
   "pygments_lexer": "ipython3",
   "version": "3.6.5-final"
  },
  "orig_nbformat": 2,
  "kernelspec": {
   "name": "python3",
   "display_name": "Python 3"
  }
 },
 "nbformat": 4,
 "nbformat_minor": 2,
 "cells": [
  {
   "cell_type": "code",
   "execution_count": 1,
   "metadata": {},
   "outputs": [],
   "source": [
    "import numpy as np\n",
    "import matplotlib.pyplot as plt\n",
    "from scipy.linalg import expm"
   ]
  },
  {
   "cell_type": "code",
   "execution_count": 62,
   "metadata": {
    "tags": []
   },
   "outputs": [
    {
     "output_type": "stream",
     "name": "stdout",
     "text": "[-4. -4. -1. -1. -1. -1. -1. -1. -1. -1.  2.  2.  2.  2.  2.  2.  2.  2.]\n[[ 0.         -0.33333333 -0.66220582  0.0698694 ]\n [ 0.         -0.33333333 -0.23195751 -0.38240743]\n [ 0.         -0.33333333 -0.21201088 -0.54668478]\n [ 0.         -0.33333333 -0.10849202  0.55603114]\n [ 0.         -0.33333333  0.32175629  0.10375431]\n [ 0.         -0.33333333  0.34170292 -0.06052304]\n [ 0.         -0.33333333 -0.10974541  0.44293047]\n [ 0.         -0.33333333  0.3205029  -0.00934636]\n [ 0.         -0.33333333  0.34044953 -0.17362371]\n [-0.33333333  0.          0.          0.        ]\n [-0.33333333  0.          0.          0.        ]\n [-0.33333333  0.          0.          0.        ]\n [-0.33333333  0.          0.          0.        ]\n [-0.33333333  0.          0.          0.        ]\n [-0.33333333  0.          0.          0.        ]\n [-0.33333333  0.          0.          0.        ]\n [-0.33333333  0.          0.          0.        ]\n [-0.33333333  0.          0.          0.        ]]\n-10.000000000000002\n"
    }
   ],
   "source": [
    "# system size (2D, L*L square lattice)\n",
    "L = 3\n",
    "N = 4\n",
    "U = 0         # take tunneling strength as a unit\n",
    "sites = L**2\n",
    "H1 = np.zeros((sites,sites))\n",
    "for i in range(sites-1):\n",
    "    H1[i,i+1] = -1\n",
    "    H1[i,(i+L)%sites] = -1\n",
    "for j in range(1,L):\n",
    "    H1[j*L-1, j*L] = 0\n",
    "    H1[j*L-1, (j-1)*L] = -1\n",
    "H1[sites-1, L-1] = -1\n",
    "H1[sites-1, sites-L] = -1\n",
    "H1 = H1 + H1.T\n",
    "H = np.kron(np.identity(2), H1)\n",
    "e, phi = np.linalg.eigh(H)\n",
    "phi_0 = phi[: , np.argsort(e)[:N]]\n",
    "print(e)\n",
    "print(phi_0)\n",
    "print(np.sum(np.sort(e)[:N]))"
   ]
  },
  {
   "cell_type": "code",
   "execution_count": 71,
   "metadata": {
    "tags": []
   },
   "outputs": [
    {
     "output_type": "stream",
     "name": "stdout",
     "text": "[5 3 7 9] [5 3 7] [ 0  1  2  4  6  8 10 11 12 13 14 15 16 17] [] 0\n[[ 0.         -0.33333333  0.34170292 -0.06052304]\n [ 0.         -0.33333333 -0.10849202  0.55603114]\n [ 0.         -0.33333333  0.3205029  -0.00934636]\n [-0.33333333  0.          0.          0.        ]]\n"
    }
   ],
   "source": [
    "v = 0\n",
    "x_up = np.random.choice(sites, np.int(N/2)+1, replace=False)\n",
    "x_down = np.random.choice(sites, np.int(N/2)-1, replace=False)  # 注意要和所选取的轨道的自旋匹配，否则交叠积分为零\n",
    "x = np.append(x_up, x_down+sites)\n",
    "site_empty = np.delete(np.arange(2*sites), x)\n",
    "site_double = np.intersect1d(x_up, x_down)\n",
    "site_single = np.setdiff1d(x, site_double)\n",
    "site_double_number = np.size(site_double)\n",
    "print(x, x_up, site_empty, site_double, site_double_number)\n",
    "print(phi_0[x])"
   ]
  },
  {
   "cell_type": "code",
   "execution_count": 72,
   "metadata": {},
   "outputs": [],
   "source": [
    "# energy and variance\n",
    "E = 0\n",
    "sigma = 0\n",
    "\n",
    "U = 0       # for test"
   ]
  },
  {
   "cell_type": "code",
   "execution_count": 73,
   "metadata": {
    "tags": []
   },
   "outputs": [],
   "source": [
    "# 输出与input仅相差一个hopping的configuration\n",
    "def onehop(x_in):\n",
    "    result_hop = []\n",
    "\n",
    "    # left hop\n",
    "    for i in range(len(x_in)):\n",
    "        if x_in[i] % L == 0:\n",
    "            if x_in[i]+L-1 in x_in:\n",
    "                continue\n",
    "            else:\n",
    "                left = x_in.copy()\n",
    "                left[i] = x_in[i]+L-1\n",
    "                result_hop.append(left)    \n",
    "\n",
    "        elif x_in[i]-1 in x_in:\n",
    "            continue\n",
    "\n",
    "        else:\n",
    "            left = x_in.copy()\n",
    "            left[i] = left[i] - 1\n",
    "            result_hop.append(left)\n",
    "\n",
    "\n",
    "    # right hop\n",
    "    for i in range(len(x_in)):\n",
    "        if x_in[i] % L == L-1:\n",
    "            if x_in[i]+1-L in x_in:\n",
    "                continue\n",
    "            else:\n",
    "                right = x_in.copy()\n",
    "                right[i] = x_in[i]+1-L\n",
    "                result_hop.append(right)\n",
    "\n",
    "        elif x_in[i]+1 in x_in:\n",
    "            continue\n",
    "\n",
    "        else:\n",
    "            right = x_in.copy()\n",
    "            right[i] = right[i] + 1\n",
    "            result_hop.append(right)\n",
    "        \n",
    "\n",
    "    # up hop\n",
    "    for i in range(len(x_in)):\n",
    "        if x_in[i] in range(L):\n",
    "            if x_in[i]-L+sites in x_in:\n",
    "                continue\n",
    "            else:\n",
    "                up = x_in.copy()\n",
    "                up[i] = x_in[i]-L+sites\n",
    "                result_hop.append(up)    \n",
    "\n",
    "        elif x_in[i]-L in x_in:\n",
    "            continue\n",
    "\n",
    "        else:\n",
    "            up = x_in.copy()\n",
    "            up[i] = up[i] - L\n",
    "            result_hop.append(up)\n",
    "\n",
    "    # down hop\n",
    "    for i in range(len(x_in)):\n",
    "        if sites-1-x_in[i] in range(L):\n",
    "            if x_in[i]+L-sites in x_in:\n",
    "                continue\n",
    "            else:\n",
    "                down = x_in.copy()\n",
    "                down[i] = x_in[i]+L-sites\n",
    "                result_hop.append(down)    \n",
    "\n",
    "        elif x_in[i]+L in x_in:\n",
    "            continue\n",
    "\n",
    "        else:\n",
    "            down = x_in.copy()\n",
    "            down[i] = down[i] + L\n",
    "            result_hop.append(down)\n",
    "\n",
    "    return result_hop\n",
    "    "
   ]
  },
  {
   "cell_type": "markdown",
   "metadata": {},
   "source": [
    "## Computation of expectations and variances of local operators $O$ (here for Hamiltonian $H$ especially)\n",
    "\n",
    "$$ \\langle O \\rangle = \\frac{\\langle \\Psi_J |O| \\Psi_J \\rangle}{\\langle \\Psi_J | \\Psi_J \\rangle} = \\frac{ \\sum_x |\\langle \\Psi_J| x\\rangle |^2 \\frac{\\langle x |O| \\Psi_J \\rangle}{\\langle x| \\Psi_J \\rangle}}{\\sum_x |\\langle \\Psi_J| x\\rangle |^2} = \\sum_x p_J(x) O_L(x) $$\n",
    "\n",
    "$$ H_{local} = \\frac{\\langle x |H| \\Psi_J \\rangle}{\\langle x| \\Psi_J \\rangle} = \\frac{ \\sum_{x^{\\prime}} \\langle x |T| x^{\\prime} \\rangle \\Psi_J(x^{\\prime}) + U(x)\\Psi_J(x)}{\\Psi_J(x)} $$\n",
    "\n",
    "$$ H^2_{local} = \\frac{\\langle x |(U+T)^2| \\Psi_J \\rangle}{\\langle x| \\Psi_J \\rangle}  = \\frac{ \\sum_{x^{\\prime \\prime}} \\langle x |T^2| x^{\\prime \\prime} \\rangle \\langle x^{\\prime \\prime}| \\Psi_J \\rangle + U(x) \\langle x |T| \\Psi_J \\rangle + \\sum_{x^{\\prime}}\\langle x |T| x^{\\prime} \\rangle U(x^{\\prime}) \\Psi_J(x^{\\prime})+ U^2(x)\\Psi_J(x)}{\\ \\Psi_J(x)} $$\n",
    "\n",
    "$| x^{\\prime} \\rangle $ and $| x^{\\prime \\prime} \\rangle $ are configurations differ from $| x \\rangle $ with only one and two hopping and no change in spin.\n",
    "\n",
    "So there are three terms about $| x^{\\prime} \\rangle $ and one term about $| x^{\\prime \\prime} \\rangle $"
   ]
  },
  {
   "cell_type": "code",
   "execution_count": null,
   "metadata": {},
   "outputs": [],
   "source": [
    "# 对于输入的configuration x 给出局域的能量H_local(x)和方差（定义见上式），示例： energy, var = energy_var(x_up_in, x_down_in)\n",
    "def energy_var(x_up_in, x_down_in):\n",
    "    x_in = np.append(x_up_in, x_down_in+sites)\n",
    "    site_double = np.intersect1d(x_up_in, x_down_in)\n",
    "    double = np.size(site_double)\n",
    "\n",
    "    psi_x = np.linalg.det(phi_0[x_in])\n",
    "\n",
    "    jx = np.exp(-v * double)\n",
    "    psi_jx = psi_x * jx\n",
    "    ux = U * double\n",
    "\n",
    "    onehop_up = onehop(x_up_in)\n",
    "    onehop_down = onehop(x_down_in)\n",
    "    twohop_up = []\n",
    "    for item in onehop_up:\n",
    "        twohop_up = twohop_up + onehop(item)\n",
    "    twohop_down = []\n",
    "    for item in onehop_down:\n",
    "        twohop_down = twohop_down + onehop(item)\n",
    "\n",
    "    # 只跳一次的话由以下两种情况构成：up一次down零次， up零次down一次。下面的式子按此排序\n",
    "    x_prime_up = onehop_up.copy()\n",
    "    for i in range(len(onehop_down)):\n",
    "        x_prime_up.append(x_up_in)\n",
    "\n",
    "    x_prime_down = []\n",
    "    for i in range(len(onehop_up)):\n",
    "        x_prime_down.append(x_down_in)\n",
    "    x_prime_down = x_prime_down + onehop_down\n",
    "\n",
    "    x_prime = [np.append(x_prime_up[i], x_prime_down[i]+sites) for i in range(len(x_prime_up))]\n",
    "    site_double_prime = [np.intersect1d(x_prime_up[i], x_prime_down[i]) for i in range(len(x_prime))]\n",
    "    double_prime = np.array([np.size(site_double_prime[i]) for i in range(len(x_prime))])\n",
    "\n",
    "    # 跳两次的话由以下几种情况构成：up2down0， up0down2, 2*(up1down1) 下面的式子按此排序\n",
    "    x_prime2_up = twohop_up.copy()\n",
    "    for i in range(len(twohop_down)):\n",
    "        x_prime2_up.append(x_up_in)\n",
    "\n",
    "    x_prime2_down = []\n",
    "    for i in range(len(twohop_up)):\n",
    "        x_prime2_down.append(x_down_in)\n",
    "    x_prime2_down = x_prime2_down + twohop_down\n",
    "\n",
    "    len_onedown = len(onehop_down)\n",
    "    for item in onehop_up:\n",
    "        for _ in range(2*len_onedown):\n",
    "            x_prime2_up = x_prime2_up + [item]\n",
    "        x_prime2_down = x_prime2_down + onehop_down + onehop_down\n",
    "\n",
    "    x_prime2 = [np.append(x_prime2_up[i], x_prime2_down[i]+sites) for i in range(len(x_prime2_up))]\n",
    "    site_double_prime2 = [np.intersect1d(x_prime2_up[i], x_prime2_down[i]) for i in range(len(x_prime2))]\n",
    "    double_prime2 = np.array([np.size(site_double_prime2[i]) for i in range(len(x_prime2))])\n",
    "\n",
    "    psi_x_prime = np.array([np.linalg.det(phi_0[item]) for item in x_prime])\n",
    "    jx_prime = np.exp(-v * double_prime)\n",
    "    ux_prime = U * double_prime\n",
    "\n",
    "    E0 = (-np.sum(jx_prime * psi_x_prime) + ux*psi_jx) / psi_jx\n",
    "\n",
    "    psi_x_prime2 = np.array([np.linalg.det(phi_0[item]) for item in x_prime2])\n",
    "    jx_prime2 = np.exp(-v * double_prime2)\n",
    "\n",
    "    H02 = (U**2*psi_jx + np.sum(jx_prime2 * psi_x_prime2) - ux * np.sum(jx_prime * psi_x_prime) - np.sum(ux_prime * jx_prime * psi_x_prime)) / psi_jx\n",
    "\n",
    "    return (E0, H02-E0**2)\n",
    "\n",
    "# 由于T不改变自旋，故要分成两个子空间，并且注意边界条件！\n",
    "# 顺序重要吗？ 由于认为输入的x是有序的，只要每次更改不变换位置，就不会有符号上的问题"
   ]
  },
  {
   "cell_type": "code",
   "execution_count": 74,
   "metadata": {},
   "outputs": [
    {
     "output_type": "execute_result",
     "data": {
      "text/plain": "(-10.000000000000039, -3.126388037344441e-13)"
     },
     "metadata": {},
     "execution_count": 74
    }
   ],
   "source": [
    "energy_var(x_up, x_down)"
   ]
  },
  {
   "cell_type": "code",
   "execution_count": null,
   "metadata": {},
   "outputs": [],
   "source": []
  }
 ]
}