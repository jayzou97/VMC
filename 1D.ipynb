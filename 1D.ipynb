{
 "cells": [
  {
   "cell_type": "markdown",
   "metadata": {},
   "source": [
    "# A test of Variational Monte Carlo on some Toy Models\n",
    "\n",
    "Here we only deal with a toy model based on a Jastrow solution of Fermi-Hubbard model. We first validate this method in 1D, then apply this to the 2D case. "
   ]
  },
  {
   "cell_type": "code",
   "execution_count": 2,
   "metadata": {},
   "outputs": [],
   "source": [
    "import numpy as np\n",
    "import matplotlib.pyplot as plt\n",
    "from scipy.linalg import expm"
   ]
  },
  {
   "cell_type": "markdown",
   "metadata": {},
   "source": [
    "## Fermi-Hubbard model\n",
    "\n",
    "$$ H = -t \\sum_{\\langle ij \\rangle} \\sum_{\\sigma} c_{i, \\sigma}^{\\dagger} c_{j, \\sigma} + U \\sum_{i} n_{i\\uparrow} n_{i\\downarrow}$$\n",
    "\n",
    "(For 2D, there are more N.N. sites)\n",
    "\n",
    "periodic boundary condition\n",
    "\n",
    "## Noninteracting state (choose U=0 here instead of Hartree-Fock)\n",
    "\n",
    "$$ c_{i\\uparrow} = d_i $$\n",
    "\n",
    "$$ c_{i\\downarrow} = d_{i+L} $$\n",
    "\n",
    "index $I$ running from 1 to 2L\n"
   ]
  },
  {
   "cell_type": "code",
   "execution_count": 96,
   "metadata": {
    "tags": []
   },
   "outputs": [],
   "source": [
    "# system size (1D)\n",
    "L = 4\n",
    "N = 2\n",
    "U = 2         # take tunneling strength as a unit\n",
    "H1 = np.zeros((2*L,2*L))\n",
    "for i in range(2*L-1):\n",
    "    H1[i, i+1] = -1\n",
    "H1[L-1, 0] = -1\n",
    "H1[2*L-1, L] = -1\n",
    "H1[L-1, L] = 0\n",
    "H = H1 + H1.T\n",
    "e, phi = np.linalg.eig(H)\n",
    "phi_0 = phi[: , np.argsort(e)[:N]]\n",
    "# print(e, np.argsort(e), phi_0)"
   ]
  },
  {
   "cell_type": "markdown",
   "metadata": {},
   "source": [
    "## Jastrow-like Wavefunction\n",
    "\n",
    "$$ |\\psi \\rangle = exp( -v \\sum_{i} n_{i\\uparrow} n_{i\\downarrow}) |\\phi _0 \\rangle $$"
   ]
  },
  {
   "cell_type": "code",
   "execution_count": 81,
   "metadata": {
    "tags": []
   },
   "outputs": [
    {
     "output_type": "stream",
     "name": "stdout",
     "text": "[1 6] [-3  2] [0 2 3 4 5 7] [] 0\n"
    }
   ],
   "source": [
    "# initialization\n",
    "v = np.random.randn()\n",
    "x = np.random.choice(2*L, N, replace=False)\n",
    "site_empty = np.delete(np.arange(2*L), x)\n",
    "x_ext = x - L\n",
    "site_double = np.intersect1d(x, x_ext)\n",
    "site_single = np.setdiff1d(x, site_double)\n",
    "site_double_number = np.size(site_double)\n",
    "print(x, x_ext, site_empty, site_double, site_double_number)\n"
   ]
  },
  {
   "cell_type": "markdown",
   "metadata": {},
   "source": [
    "## Computation of expectations and variances of local operators $O$ (here for Hamiltonian $H$ especially)\n",
    "\n",
    "$$ \\langle O \\rangle = \\frac{\\langle \\Psi_J |O| \\Psi_J \\rangle}{\\langle \\Psi_J | \\Psi_J \\rangle} = \\frac{ \\sum_x |\\langle \\Psi_J| x\\rangle |^2 \\frac{\\langle x |O| \\Psi_J \\rangle}{\\langle x| \\Psi_J \\rangle}}{\\sum_x |\\langle \\Psi_J| x\\rangle |^2} = \\sum_x p_J(x) O_L(x) $$\n",
    "\n",
    "$$ H_{local} = \\frac{\\langle x |H| \\Psi_J \\rangle}{\\langle x| \\Psi_J \\rangle} = \\frac{ \\sum_{x^{\\prime}} \\langle x |T| x^{\\prime} \\rangle \\Psi_J(x^{\\prime}) + U(x)\\Psi_J(x)}{\\Psi_J(x)} $$\n",
    "\n",
    "$$ H^2_{local} = \\frac{\\langle x |(U+T)^2| \\Psi_J \\rangle}{\\langle x| \\Psi_J \\rangle}  = \\frac{ \\sum_{x^{\\prime \\prime}} \\langle x |T^2| x^{\\prime \\prime} \\rangle \\langle x^{\\prime \\prime}| \\Psi_J \\rangle + U(x) \\langle x |T| \\Psi_J \\rangle + \\sum_{x^{\\prime}}\\langle x |T| x^{\\prime} \\rangle U(x^{\\prime}) \\Psi_J(x^{\\prime})+ U^2(x)\\Psi_J(x)}{\\ \\Psi_J(x)} $$\n",
    "\n",
    "$| x^{\\prime} \\rangle $ and $| x^{\\prime \\prime} \\rangle $ are configurations differ from $| x \\rangle $ with only one and two hopping and no change in spin.\n",
    "\n",
    "So there are three terms about $| x^{\\prime} \\rangle $ and one term about $| x^{\\prime \\prime} \\rangle $\n"
   ]
  },
  {
   "cell_type": "code",
   "execution_count": 103,
   "metadata": {
    "tags": []
   },
   "outputs": [],
   "source": [
    "# energy and variance\n",
    "E = 0\n",
    "sigma = 0\n",
    "\n",
    "psi_jx = np.linalg.det(phi_0[x])\n",
    "\n",
    "def onehop():\n",
    "    pass\n",
    "\n",
    "def twohop():\n",
    "    pass\n",
    "\n",
    "# 由于T不改变自旋，故要分成两个子空间，并且注意边界条件！\n",
    "# 顺序重要吗？\n"
   ]
  },
  {
   "cell_type": "markdown",
   "metadata": {},
   "source": [
    "## Update of determinant $|\\frac{\\phi_0(x^\\prime)}{\\phi_0(x)}|^2$ :\n",
    "\n",
    "$x^\\prime$ differs from x with only one index, x ranges from 0 to 2L-1 (spin up for 0 ~ L-1) \n",
    "\n",
    "### Some details: \n",
    "\n",
    "Notation:\n",
    "\n",
    "\n",
    "\n",
    "## Update of Jastrow factor:\n",
    "\n",
    "Since there are only diagnoal terms in Gutzwiller factor, we only need to keep track with doubly occupied sites, which are nonvanishing in the sum on the exponential term.\n"
   ]
  },
  {
   "cell_type": "code",
   "execution_count": 79,
   "metadata": {
    "tags": []
   },
   "outputs": [
    {
     "output_type": "stream",
     "name": "stdout",
     "text": "[1 6]\n[1 6] [] 0 1 [2 6]\n"
    }
   ],
   "source": [
    "# randomly choose a new configuration\n",
    "index_change = np.random.randint(N)\n",
    "index_new = np.random.randint(2*L-1-N)\n",
    "x_new = x.copy()\n",
    "x_new[index_change] = site_empty[index_new]\n",
    "# print(x, site_double, index_change, index_new, x_new)\n",
    "\n",
    "# update of Jastrow factor\n",
    "site_double_number_new = site_double_number\n",
    "\n",
    "if x[index_change]%L in site_double:\n",
    "    arg_delete = np.argwhere(site_double, x[index_change]%L)[0]\n",
    "    site_double_new = np.delete(site_double, site_double[arg_delete])\n",
    "    site_double_number_new += (-1)\n",
    "\n",
    "if x_new[index_change]%L in site_single:\n",
    "    arg_append = np.argwhere(site_double, x[index_change]%L)[0]\n",
    "    site_double_new = np.delete(site_double, site_double[arg_delete])\n",
    "    site_double_number_new += (-1)\n",
    "\n",
    "\n",
    "# update of determinant\n",
    "\n",
    "def detUpdate(delta_v,delta_index,U_inv,U_det,axis):  # detUpdate result could be minus det, but we don't care here                                   \n",
    "    if axis == 0:\n",
    "        detRatio = 1 + np.dot(U_inv[:,delta_index],delta_v)\n",
    "    elif axis == 1:\n",
    "        detRatio = 1 + np.dot(U_inv[delta_index,:],delta_v) # delta_v input can be either row or column vector\n",
    "    return detRatio * U_det     # return value is a complex number\n",
    "    \n",
    "# following update methods dealing with enlarged matrix with row and collum added at the end\n",
    "# update the inv and det of enlarged matrix with O(n^2)\n",
    "def matrixDetUpdate(m_new,m_det,m_inv,n): # m_new is n*n, m is (n-1)*(n-1)\n",
    "    v_new = m_new[0:-1,-1]\n",
    "    delta_v_mat = np.array([v_new,]*(n-1)).T - m_new[0:-1,0:-1]\n",
    "    m_det_list = np.array([detUpdate(delta_v_mat[:,i],i,m_inv,m_det,1) for i in range(n-1)] + [(-1 ** (n-1))*m_det])     \n",
    "    # only care about relative +-\n",
    "    m_new_det = np.dot(m_new[-1],m_det_list)\n",
    "    return m_new_det\n",
    "\n",
    "def matrixInvUpdate(m_new,m_inv,n): # m_new is n*n, m is (n-1)*(n-1)\n",
    "    u = np.expand_dims(m_new[0:-1,-1],axis=1)\n",
    "    v = np.expand_dims(m_new[-1,0:-1],axis=0)\n",
    "    c = m_new[-1,-1]\n",
    "    k_inv = 1 / (c - v.dot(m_inv).dot(u))\n",
    "    m_new_inv = m_inv + k_inv * np.dot(m_inv.dot(u),v.dot(m_inv))\n",
    "    m_new_inv = np.c_[m_new_inv,-k_inv * m_inv.dot(u)]\n",
    "    m_new_inv = np.r_[m_new_inv,np.expand_dims(np.append(-k_inv * v.dot(m_inv), np.array([k_inv])),axis=0)]\n",
    "    return m_new_inv\n",
    "\n",
    "\n",
    "# Recept in Markov chain\n",
    "r = 0.2\n",
    "if np.random.rand() < np.min(1, r):\n",
    "    pass\n",
    "\n"
   ]
  },
  {
   "cell_type": "code",
   "execution_count": 27,
   "metadata": {},
   "outputs": [],
   "source": [
    "\n"
   ]
  },
  {
   "cell_type": "code",
   "execution_count": null,
   "metadata": {},
   "outputs": [],
   "source": [
    "# energy\n",
    "\n"
   ]
  },
  {
   "cell_type": "code",
   "execution_count": null,
   "metadata": {},
   "outputs": [],
   "source": [
    "# variation\n"
   ]
  },
  {
   "cell_type": "markdown",
   "metadata": {},
   "source": [
    "## Place for simple test"
   ]
  },
  {
   "cell_type": "code",
   "execution_count": 87,
   "metadata": {
    "tags": []
   },
   "outputs": [
    {
     "output_type": "execute_result",
     "data": {
      "text/plain": "array([[0]])"
     },
     "metadata": {},
     "execution_count": 87
    }
   ],
   "source": [
    "# test\n",
    "a = np.arange(2,5)\n",
    "np.argwhere(3)"
   ]
  },
  {
   "cell_type": "code",
   "execution_count": null,
   "metadata": {},
   "outputs": [],
   "source": []
  }
 ],
 "metadata": {
  "language_info": {
   "codemirror_mode": {
    "name": "ipython",
    "version": 3
   },
   "file_extension": ".py",
   "mimetype": "text/x-python",
   "name": "python",
   "nbconvert_exporter": "python",
   "pygments_lexer": "ipython3",
   "version": "3.6.5-final"
  },
  "orig_nbformat": 2,
  "kernelspec": {
   "name": "python3",
   "display_name": "Python 3"
  }
 },
 "nbformat": 4,
 "nbformat_minor": 2
}