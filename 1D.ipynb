{
 "cells": [
  {
   "cell_type": "markdown",
   "metadata": {},
   "source": [
    "# A test of Variational Monte Carlo on some Toy Models\n",
    "\n",
    "Here we only deal with a toy model based on a Jastrow solution of Fermi-Hubbard model. We first validate this method in 1D, then apply this to the 2D case. "
   ]
  },
  {
   "cell_type": "code",
   "execution_count": 2,
   "metadata": {},
   "outputs": [],
   "source": [
    "import numpy as np\n",
    "import matplotlib.pyplot as plt\n",
    "from scipy.linalg import expm"
   ]
  },
  {
   "cell_type": "markdown",
   "metadata": {},
   "source": [
    "## Fermi-Hubbard model\n",
    "\n",
    "$$ H = -t \\sum_{\\langle ij \\rangle} \\sum_{\\sigma} c_{i, \\sigma}^{\\dagger} c_{j, \\sigma} + U \\sum_{i} n_{i\\uparrow} n_{i\\downarrow}$$\n",
    "\n",
    "(For 2D, there are more N.N. sites)\n",
    "\n",
    "periodic boundary condition\n",
    "\n",
    "## Noninteracting state (choose U=0 here instead of Hartree-Fock)\n",
    "\n",
    "$$ c_{i\\uparrow} = d_i $$\n",
    "\n",
    "$$ c_{i\\downarrow} = d_{i+L} $$\n",
    "\n",
    "index $I$ running from 1 to 2L\n"
   ]
  },
  {
   "cell_type": "code",
   "execution_count": 7,
   "metadata": {
    "tags": []
   },
   "outputs": [],
   "source": [
    "# system size (1D)\n",
    "L = 4\n",
    "N = 2\n",
    "U = 2         # take tunneling strength as a unit\n",
    "H1 = np.zeros((2*L,2*L))\n",
    "for i in range(2*L-1):\n",
    "    H1[i, i+1] = -1\n",
    "H1[L-1, 0] = -1\n",
    "H1[2*L-1, L] = -1\n",
    "H1[L-1, L] = 0\n",
    "H = H1 + H1.T\n",
    "e, phi = np.linalg.eig(H)\n",
    "phi_0 = phi[np.argsort(e)]\n",
    "# print(e, np.argsort(e), phi_0)"
   ]
  },
  {
   "cell_type": "markdown",
   "metadata": {},
   "source": [
    "## Jastrow-like Wavefunction\n",
    "\n",
    "$$ |\\psi \\rangle = exp(-\\frac{1}{2} v \\sum_{i} n_{i\\uparrow} n_{i\\downarrow}) |\\phi _0 \\rangle $$"
   ]
  },
  {
   "cell_type": "code",
   "execution_count": 12,
   "metadata": {
    "tags": []
   },
   "outputs": [],
   "source": [
    "# initialization\n",
    "v = np.random.randn()\n",
    "x = np.random.choice(2*L, N, replace=False)\n",
    "site_empty = np.delete(np.arange(2*L), x)\n",
    "x_ext = x - L\n",
    "site_double = np.intersect1d(x, x_ext)\n",
    "# print(x, x_ext, site_double)\n"
   ]
  },
  {
   "cell_type": "markdown",
   "metadata": {},
   "source": [
    "## Computation of expectations and variances of local operators $O$ (here for Hamiltonian $H$ especially)\n",
    "\n",
    "\n"
   ]
  },
  {
   "cell_type": "code",
   "execution_count": null,
   "metadata": {},
   "outputs": [],
   "source": [
    "# energy and variance\n"
   ]
  },
  {
   "cell_type": "markdown",
   "metadata": {},
   "source": [
    "## Update of determinant $|\\frac{\\phi_0(x^\\prime)}{\\phi_0(x)}|^2$ :\n",
    "\n",
    "$x^\\prime$ differs from x with only one index, x ranges from 0 to 2L-1 (spin up for 0 ~ L-1) \n",
    "\n",
    "### Some details: \n",
    "\n",
    "Notation:\n",
    "\n",
    "\n",
    "\n",
    "## Update of Jastrow factor:\n",
    "\n",
    "Since there are only diagnoal terms in Gutzwiller factor, we only need to keep track with doubly occupied sites, which are nonvanishing in the sum on the exponential term.\n"
   ]
  },
  {
   "cell_type": "code",
   "execution_count": 11,
   "metadata": {},
   "outputs": [],
   "source": [
    "# randomly choose a new configuration\n",
    "index_change_orbit = np.random.randint(N)\n",
    "\n",
    "\n",
    "# update of Jastrow factor\n",
    "\n",
    "\n",
    "# update of determinant\n",
    "\n"
   ]
  },
  {
   "cell_type": "code",
   "execution_count": null,
   "metadata": {},
   "outputs": [],
   "source": [
    "\n"
   ]
  },
  {
   "cell_type": "code",
   "execution_count": null,
   "metadata": {},
   "outputs": [],
   "source": [
    "# energy\n",
    "\n"
   ]
  },
  {
   "cell_type": "code",
   "execution_count": null,
   "metadata": {},
   "outputs": [],
   "source": [
    "# variation\n"
   ]
  },
  {
   "cell_type": "code",
   "execution_count": 2,
   "metadata": {},
   "outputs": [
    {
     "output_type": "execute_result",
     "data": {
      "text/plain": "array([0., 0.])"
     },
     "metadata": {},
     "execution_count": 2
    }
   ],
   "source": [
    "# test"
   ]
  }
 ],
 "metadata": {
  "language_info": {
   "codemirror_mode": {
    "name": "ipython",
    "version": 3
   },
   "file_extension": ".py",
   "mimetype": "text/x-python",
   "name": "python",
   "nbconvert_exporter": "python",
   "pygments_lexer": "ipython3",
   "version": "3.6.5-final"
  },
  "orig_nbformat": 2,
  "kernelspec": {
   "name": "python3",
   "display_name": "Python 3"
  }
 },
 "nbformat": 4,
 "nbformat_minor": 2
}