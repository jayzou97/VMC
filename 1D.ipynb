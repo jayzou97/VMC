{
 "cells": [
  {
   "cell_type": "markdown",
   "metadata": {},
   "source": [
    "# A test of Variational Monte Carlo on some Toy Models\n",
    "\n",
    "Here we only deal with a toy model based on a Jastrow solution of Fermi-Hubbard model. We first validate this method in 1D, then apply this to the 2D case. "
   ]
  },
  {
   "cell_type": "code",
   "execution_count": 2,
   "metadata": {},
   "outputs": [],
   "source": [
    "import numpy as np\n",
    "import matplotlib.pyplot as plt\n",
    "from scipy.linalg import expm"
   ]
  },
  {
   "cell_type": "markdown",
   "metadata": {},
   "source": [
    "## Fermi-Hubbard model\n",
    "\n",
    "$$ H = -t \\sum_{\\langle ij \\rangle} \\sum_{\\sigma} c_{i, \\sigma}^{\\dagger} c_{j, \\sigma} + U \\sum_{i} n_{i\\uparrow} n_{i\\downarrow}$$\n",
    "\n",
    "(For 2D, there are more N.N. sites)\n",
    "\n",
    "periodic boundary condition\n",
    "\n",
    "## Noninteracting state (choose U=0 here instead of Hartree-Fock)\n",
    "\n",
    "$$ c_{i\\uparrow} = d_i $$\n",
    "\n",
    "$$ c_{i\\downarrow} = d_{i+L} $$\n",
    "\n",
    "index $I$ running from 1 to 2L\n",
    "\n",
    "简并会是问题吗？按现在的情况，确定了所选轨道的自旋，也就确定了采样出的x的自旋，即自旋不守恒的情况概率为零。但有简并的话，本征态应该是singlet/triplet\n"
   ]
  },
  {
   "cell_type": "code",
   "execution_count": 289,
   "metadata": {
    "tags": []
   },
   "outputs": [
    {
     "output_type": "stream",
     "name": "stdout",
     "text": "[[-3.53553391e-01  0.00000000e+00 -1.89712367e-02  0.00000000e+00\n  -5.00000000e-01  0.00000000e+00]\n [-3.53553391e-01  0.00000000e+00  3.39884116e-01  0.00000000e+00\n  -3.53553391e-01  0.00000000e+00]\n [-3.53553391e-01  0.00000000e+00  4.99639963e-01  0.00000000e+00\n  -2.76642233e-16  0.00000000e+00]\n [-3.53553391e-01  0.00000000e+00  3.66713496e-01  0.00000000e+00\n   3.53553391e-01  0.00000000e+00]\n [-3.53553391e-01  0.00000000e+00  1.89712367e-02  0.00000000e+00\n   5.00000000e-01  0.00000000e+00]\n [-3.53553391e-01  0.00000000e+00 -3.39884116e-01  0.00000000e+00\n   3.53553391e-01  0.00000000e+00]\n [-3.53553391e-01  0.00000000e+00 -4.99639963e-01  0.00000000e+00\n  -2.11018414e-16  0.00000000e+00]\n [-3.53553391e-01  0.00000000e+00 -3.66713496e-01  0.00000000e+00\n  -3.53553391e-01  0.00000000e+00]\n [ 0.00000000e+00 -3.53553391e-01  0.00000000e+00 -1.89712367e-02\n   0.00000000e+00 -5.00000000e-01]\n [ 0.00000000e+00 -3.53553391e-01  0.00000000e+00  3.39884116e-01\n   0.00000000e+00 -3.53553391e-01]\n [ 0.00000000e+00 -3.53553391e-01  0.00000000e+00  4.99639963e-01\n   0.00000000e+00 -2.76642233e-16]\n [ 0.00000000e+00 -3.53553391e-01  0.00000000e+00  3.66713496e-01\n   0.00000000e+00  3.53553391e-01]\n [ 0.00000000e+00 -3.53553391e-01  0.00000000e+00  1.89712367e-02\n   0.00000000e+00  5.00000000e-01]\n [ 0.00000000e+00 -3.53553391e-01  0.00000000e+00 -3.39884116e-01\n   0.00000000e+00  3.53553391e-01]\n [ 0.00000000e+00 -3.53553391e-01  0.00000000e+00 -4.99639963e-01\n   0.00000000e+00 -2.11018414e-16]\n [ 0.00000000e+00 -3.53553391e-01  0.00000000e+00 -3.66713496e-01\n   0.00000000e+00 -3.53553391e-01]]\n-9.656854249492376\n"
    }
   ],
   "source": [
    "# system size (1D)\n",
    "L = 8\n",
    "N = 6\n",
    "U = 0         # take tunneling strength as a unit\n",
    "H1 = np.zeros((2*L,2*L))\n",
    "for i in range(2*L-1):\n",
    "    H1[i, i+1] = -1\n",
    "H1[L-1, 0] = -1\n",
    "H1[2*L-1, L] = -1\n",
    "H1[L-1, L] = 0\n",
    "H = H1 + H1.T\n",
    "e, phi = np.linalg.eig(H)\n",
    "phi_0 = phi[: , np.argsort(e)[:N]]\n",
    "print(phi_0)\n",
    "print(np.sum(np.sort(e)[:N]))"
   ]
  },
  {
   "cell_type": "markdown",
   "metadata": {},
   "source": [
    "## Jastrow-like Wavefunction\n",
    "\n",
    "$$ |\\psi \\rangle = exp( -v \\sum_{i} n_{i\\uparrow} n_{i\\downarrow}) |\\phi _0 \\rangle $$"
   ]
  },
  {
   "cell_type": "code",
   "execution_count": 298,
   "metadata": {
    "tags": []
   },
   "outputs": [
    {
     "output_type": "stream",
     "name": "stdout",
     "text": "[ 4  3  7 11 13 15] [4 3 7] [ 0  1  2  5  6  8  9 10 12 14] [3 7] 2\n[[-0.35355339  0.          0.01897124  0.          0.5         0.        ]\n [-0.35355339  0.          0.3667135   0.          0.35355339  0.        ]\n [-0.35355339  0.         -0.3667135   0.         -0.35355339  0.        ]\n [ 0.         -0.35355339  0.          0.3667135   0.          0.35355339]\n [ 0.         -0.35355339  0.         -0.33988412  0.          0.35355339]\n [ 0.         -0.35355339  0.         -0.3667135   0.         -0.35355339]]\n"
    }
   ],
   "source": [
    "# initialization\n",
    "# v = np.random.randn()\n",
    "v = 0\n",
    "# x = np.random.choice(2*L, N, replace=False)\n",
    "x_up = np.random.choice(L, np.int(N/2), replace=False)\n",
    "x_down = np.random.choice(L, np.int(N/2), replace=False)\n",
    "x = np.append(x_up, x_down+L)\n",
    "site_empty = np.delete(np.arange(2*L), x)\n",
    "site_double = np.intersect1d(x_up, x_down)\n",
    "site_single = np.setdiff1d(x, site_double)\n",
    "site_double_number = np.size(site_double)\n",
    "print(x, x_up, site_empty, site_double, site_double_number)\n",
    "print(phi_0[x])"
   ]
  },
  {
   "cell_type": "markdown",
   "metadata": {},
   "source": [
    "## Computation of expectations and variances of local operators $O$ (here for Hamiltonian $H$ especially)\n",
    "\n",
    "$$ \\langle O \\rangle = \\frac{\\langle \\Psi_J |O| \\Psi_J \\rangle}{\\langle \\Psi_J | \\Psi_J \\rangle} = \\frac{ \\sum_x |\\langle \\Psi_J| x\\rangle |^2 \\frac{\\langle x |O| \\Psi_J \\rangle}{\\langle x| \\Psi_J \\rangle}}{\\sum_x |\\langle \\Psi_J| x\\rangle |^2} = \\sum_x p_J(x) O_L(x) $$\n",
    "\n",
    "$$ H_{local} = \\frac{\\langle x |H| \\Psi_J \\rangle}{\\langle x| \\Psi_J \\rangle} = \\frac{ \\sum_{x^{\\prime}} \\langle x |T| x^{\\prime} \\rangle \\Psi_J(x^{\\prime}) + U(x)\\Psi_J(x)}{\\Psi_J(x)} $$\n",
    "\n",
    "$$ H^2_{local} = \\frac{\\langle x |(U+T)^2| \\Psi_J \\rangle}{\\langle x| \\Psi_J \\rangle}  = \\frac{ \\sum_{x^{\\prime \\prime}} \\langle x |T^2| x^{\\prime \\prime} \\rangle \\langle x^{\\prime \\prime}| \\Psi_J \\rangle + U(x) \\langle x |T| \\Psi_J \\rangle + \\sum_{x^{\\prime}}\\langle x |T| x^{\\prime} \\rangle U(x^{\\prime}) \\Psi_J(x^{\\prime})+ U^2(x)\\Psi_J(x)}{\\ \\Psi_J(x)} $$\n",
    "\n",
    "$| x^{\\prime} \\rangle $ and $| x^{\\prime \\prime} \\rangle $ are configurations differ from $| x \\rangle $ with only one and two hopping and no change in spin.\n",
    "\n",
    "So there are three terms about $| x^{\\prime} \\rangle $ and one term about $| x^{\\prime \\prime} \\rangle $\n"
   ]
  },
  {
   "cell_type": "code",
   "execution_count": 305,
   "metadata": {
    "tags": []
   },
   "outputs": [
    {
     "output_type": "stream",
     "name": "stdout",
     "text": "[array([ 4,  2,  7, 11, 13, 15]), array([ 4,  3,  6, 11, 13, 15]), array([ 5,  3,  7, 11, 13, 15]), array([ 4,  3,  0, 11, 13, 15]), array([ 4,  3,  7, 10, 13, 15]), array([ 4,  3,  7, 11, 12, 15]), array([ 4,  3,  7, 11, 13, 14]), array([ 4,  3,  7, 12, 13, 15]), array([ 4,  3,  7, 11, 14, 15]), array([ 4,  3,  7, 11, 13,  8])] [array([ 3,  2,  7, 11, 13, 15]), array([ 4,  1,  7, 11, 13, 15]), array([ 4,  2,  6, 11, 13, 15]), array([ 5,  2,  7, 11, 13, 15]), array([ 4,  3,  7, 11, 13, 15]), array([ 4,  2,  0, 11, 13, 15]), array([ 4,  2,  6, 11, 13, 15]), array([ 4,  3,  5, 11, 13, 15]), array([ 5,  3,  6, 11, 13, 15]), array([ 4,  3,  7, 11, 13, 15]), array([ 4,  3,  7, 11, 13, 15]), array([ 5,  2,  7, 11, 13, 15]), array([ 5,  3,  6, 11, 13, 15]), array([ 6,  3,  7, 11, 13, 15]), array([ 5,  4,  7, 11, 13, 15]), array([ 5,  3,  0, 11, 13, 15]), array([ 4,  2,  0, 11, 13, 15]), array([ 4,  3,  7, 11, 13, 15]), array([ 5,  3,  0, 11, 13, 15]), array([ 4,  3,  1, 11, 13, 15]), array([ 4,  3,  7,  9, 13, 15]), array([ 4,  3,  7, 10, 12, 15]), array([ 4,  3,  7, 10, 13, 14]), array([ 4,  3,  7, 11, 13, 15]), array([ 4,  3,  7, 10, 14, 15]), array([ 4,  3,  7, 10, 13,  8]), array([ 4,  3,  7, 10, 12, 15]), array([ 4,  3,  7, 11, 12, 14]), array([ 4,  3,  7, 11, 13, 15]), array([ 4,  3,  7, 11, 12,  8]), array([ 4,  3,  7, 10, 13, 14]), array([ 4,  3,  7, 11, 12, 14]), array([ 4,  3,  7, 12, 13, 14]), array([ 4,  3,  7, 11, 13, 15]), array([ 4,  3,  7, 11, 13, 15]), array([ 4,  3,  7, 12, 13, 14]), array([ 4,  3,  7, 12, 14, 15]), array([ 4,  3,  7, 12, 13,  8]), array([ 4,  3,  7, 10, 14, 15]), array([ 4,  3,  7, 11, 13, 15]), array([ 4,  3,  7, 12, 14, 15]), array([ 4,  3,  7, 11, 14,  8]), array([ 4,  3,  7, 10, 13,  8]), array([ 4,  3,  7, 11, 12,  8]), array([ 4,  3,  7, 11, 13, 15]), array([ 4,  3,  7, 12, 13,  8]), array([ 4,  3,  7, 11, 14,  8]), array([ 4,  3,  7, 11, 13,  9]), array([ 4,  2,  7, 10, 13, 15]), array([ 4,  2,  7, 11, 12, 15]), array([ 4,  2,  7, 11, 13, 14]), array([ 4,  2,  7, 12, 13, 15]), array([ 4,  2,  7, 11, 14, 15]), array([ 4,  2,  7, 11, 13,  8]), array([ 4,  2,  7, 10, 13, 15]), array([ 4,  2,  7, 11, 12, 15]), array([ 4,  2,  7, 11, 13, 14]), array([ 4,  2,  7, 12, 13, 15]), array([ 4,  2,  7, 11, 14, 15]), array([ 4,  2,  7, 11, 13,  8]), array([ 4,  3,  6, 10, 13, 15]), array([ 4,  3,  6, 11, 12, 15]), array([ 4,  3,  6, 11, 13, 14]), array([ 4,  3,  6, 12, 13, 15]), array([ 4,  3,  6, 11, 14, 15]), array([ 4,  3,  6, 11, 13,  8]), array([ 4,  3,  6, 10, 13, 15]), array([ 4,  3,  6, 11, 12, 15]), array([ 4,  3,  6, 11, 13, 14]), array([ 4,  3,  6, 12, 13, 15]), array([ 4,  3,  6, 11, 14, 15]), array([ 4,  3,  6, 11, 13,  8]), array([ 5,  3,  7, 10, 13, 15]), array([ 5,  3,  7, 11, 12, 15]), array([ 5,  3,  7, 11, 13, 14]), array([ 5,  3,  7, 12, 13, 15]), array([ 5,  3,  7, 11, 14, 15]), array([ 5,  3,  7, 11, 13,  8]), array([ 5,  3,  7, 10, 13, 15]), array([ 5,  3,  7, 11, 12, 15]), array([ 5,  3,  7, 11, 13, 14]), array([ 5,  3,  7, 12, 13, 15]), array([ 5,  3,  7, 11, 14, 15]), array([ 5,  3,  7, 11, 13,  8]), array([ 4,  3,  0, 10, 13, 15]), array([ 4,  3,  0, 11, 12, 15]), array([ 4,  3,  0, 11, 13, 14]), array([ 4,  3,  0, 12, 13, 15]), array([ 4,  3,  0, 11, 14, 15]), array([ 4,  3,  0, 11, 13,  8]), array([ 4,  3,  0, 10, 13, 15]), array([ 4,  3,  0, 11, 12, 15]), array([ 4,  3,  0, 11, 13, 14]), array([ 4,  3,  0, 12, 13, 15]), array([ 4,  3,  0, 11, 14, 15]), array([ 4,  3,  0, 11, 13,  8])] [1. 1. 1. 1. 1. 1. 1. 1. 1. 1. 1. 1. 1. 1. 1. 1. 1. 1. 1. 1. 1. 1. 1. 1.\n 1. 1. 1. 1. 1. 1. 1. 1. 1. 1. 1. 1. 1. 1. 1. 1. 1. 1. 1. 1. 1. 1. 1. 1.\n 1. 1. 1. 1. 1. 1. 1. 1. 1. 1. 1. 1. 1. 1. 1. 1. 1. 1. 1. 1. 1. 1. 1. 1.\n 1. 1. 1. 1. 1. 1. 1. 1. 1. 1. 1. 1. 1. 1. 1. 1. 1. 1. 1. 1. 1. 1. 1. 1.] [0.03766778 0.01560251 0.03120501 0.02206528 0.02663514 0.01560251\n 0.01103264 0.01103264 0.01560251 0.02663514] 0.022065275254288426\n10 96\n-9.656854249492383 93.25483399593907 -2.842170943040401e-14\n"
    }
   ],
   "source": [
    "# energy and variance\n",
    "E = 0\n",
    "sigma = 0\n",
    "\n",
    "U = 0       # for test\n",
    "\n",
    "x = np.append(x_up, x_down+L)\n",
    "site_double = np.intersect1d(x_up, x_down)\n",
    "double = np.size(site_double)\n",
    "\n",
    "psi_x = np.linalg.det(phi_0[x])\n",
    "\n",
    "jx = np.exp(-v * double)\n",
    "psi_jx = psi_x * jx\n",
    "ux = U * double\n",
    "\n",
    "def onehop(x_in):\n",
    "    result_hop = []\n",
    "\n",
    "    # left hop\n",
    "    for i in range(len(x_in)):\n",
    "        if x_in[i] == 0:\n",
    "            if L-1 in x_in:\n",
    "                continue\n",
    "            else:\n",
    "                left = x_in.copy()\n",
    "                left[i] = L-1\n",
    "                result_hop.append(left)    \n",
    "\n",
    "        elif x_in[i] - 1 in x_in:\n",
    "            continue\n",
    "\n",
    "        else:\n",
    "            left = x_in.copy()\n",
    "            left[i] = left[i] - 1\n",
    "            result_hop.append(left)\n",
    "\n",
    "    # right hop\n",
    "    for i in range(len(x_in)):\n",
    "        if x_in[i] == L-1:\n",
    "            if 0 in x_in:\n",
    "                continue\n",
    "            else:\n",
    "                right = x_in.copy()\n",
    "                right[i] = 0\n",
    "                result_hop.append(right)\n",
    "\n",
    "        elif x_in[i] + 1 in x_in:\n",
    "            continue\n",
    "\n",
    "        else:\n",
    "            right = x_in.copy()\n",
    "            right[i] = right[i] + 1\n",
    "            result_hop.append(right)\n",
    "\n",
    "    return result_hop\n",
    "\n",
    "onehop_up = onehop(x_up)\n",
    "onehop_down = onehop(x_down)\n",
    "twohop_up = []\n",
    "for item in onehop_up:\n",
    "    twohop_up = twohop_up + onehop(item)\n",
    "twohop_down = []\n",
    "for item in onehop_down:\n",
    "    twohop_down = twohop_down + onehop(item)\n",
    "\n",
    "# 只跳一次的话由以下两种情况构成：up一次down零次， up零次down一次。下面的式子按此排序\n",
    "x_prime_up = onehop_up.copy()\n",
    "for i in range(len(onehop_down)):\n",
    "    x_prime_up.append(x_up)\n",
    "\n",
    "x_prime_down = []\n",
    "for i in range(len(onehop_up)):\n",
    "    x_prime_down.append(x_down)\n",
    "x_prime_down = x_prime_down + onehop_down\n",
    "\n",
    "x_prime = [np.append(x_prime_up[i], x_prime_down[i]+L) for i in range(len(x_prime_up))]\n",
    "site_double_prime = [np.intersect1d(x_prime_up[i], x_prime_down[i]) for i in range(len(x_prime))]\n",
    "double_prime = np.array([np.size(site_double_prime[i]) for i in range(len(x_prime))])\n",
    "\n",
    "# 跳两次的话由以下几种情况构成：up2down0， up0down2, 2*(up1down1) 下面的式子按此排序\n",
    "x_prime2_up = twohop_up.copy()\n",
    "for i in range(len(twohop_down)):\n",
    "    x_prime2_up.append(x_up)\n",
    "\n",
    "x_prime2_down = []\n",
    "for i in range(len(twohop_up)):\n",
    "    x_prime2_down.append(x_down)\n",
    "x_prime2_down = x_prime2_down + twohop_down\n",
    "\n",
    "len_onedown = len(onehop_down)\n",
    "for item in onehop_up:\n",
    "    for _ in range(2*len_onedown):\n",
    "        x_prime2_up = x_prime2_up + [item]\n",
    "    x_prime2_down = x_prime2_down + onehop_down + onehop_down\n",
    "\n",
    "x_prime2 = [np.append(x_prime2_up[i], x_prime2_down[i]+L) for i in range(len(x_prime2_up))]\n",
    "site_double_prime2 = [np.intersect1d(x_prime2_up[i], x_prime2_down[i]) for i in range(len(x_prime2))]\n",
    "double_prime2 = np.array([np.size(site_double_prime2[i]) for i in range(len(x_prime2))])\n",
    "\n",
    "psi_x_prime = np.array([np.linalg.det(phi_0[item]) for item in x_prime])\n",
    "jx_prime = np.exp(-v * double_prime)\n",
    "ux_prime = U * double_prime\n",
    "\n",
    "E0 = (-np.sum(jx_prime * psi_x_prime) + ux*psi_jx) / psi_jx\n",
    "\n",
    "psi_x_prime2 = np.array([np.linalg.det(phi_0[item]) for item in x_prime2])\n",
    "jx_prime2 = np.exp(-v * double_prime2)\n",
    "\n",
    "E02 = (U**2*psi_jx + np.sum(jx_prime2 * psi_x_prime2) - ux * np.sum(jx_prime * psi_x_prime) - np.sum(ux_prime * jx_prime * psi_x_prime)) / psi_jx\n",
    "\n",
    "print(x_prime, x_prime2, jx_prime2, psi_x_prime, psi_jx)\n",
    "print(len(x_prime), len(x_prime2))\n",
    "print(E0, E02, E02 - E0**2)\n",
    "\n",
    "\n",
    "# 由于T不改变自旋，故要分成两个子空间，并且注意边界条件！\n",
    "# 顺序重要吗？ 由于认为输入的x是有序的，只要每次更改不变换位置，就不会有符号上的问题\n"
   ]
  },
  {
   "cell_type": "markdown",
   "metadata": {},
   "source": [
    "## Update of determinant $|\\frac{\\phi_0(x^\\prime)}{\\phi_0(x)}|^2$ :\n",
    "\n",
    "$x^\\prime$ differs from x with only one index, x ranges from 0 to 2L-1 (spin up for 0 ~ L-1) \n",
    "\n",
    "### Some details: \n",
    "\n",
    "Notation:  $ \\tilde{U} = \\phi_0(x)   $\n",
    "\n",
    "\n",
    "\n",
    "## Update of Jastrow factor:\n",
    "\n",
    "Since there are only diagnoal terms in Gutzwiller factor, we only need to keep track with doubly occupied sites, which are nonvanishing in the sum on the exponential term.\n"
   ]
  },
  {
   "cell_type": "code",
   "execution_count": 79,
   "metadata": {
    "tags": []
   },
   "outputs": [
    {
     "output_type": "stream",
     "name": "stdout",
     "text": "[1 6]\n[1 6] [] 0 1 [2 6]\n"
    }
   ],
   "source": [
    "# randomly choose a new configuration\n",
    "index_change = np.random.randint(N)\n",
    "index_new = np.random.randint(2*L-1-N)\n",
    "x_new = x.copy()\n",
    "x_new[index_change] = site_empty[index_new]\n",
    "# print(x, site_double, index_change, index_new, x_new)\n",
    "\n",
    "# update of Jastrow factor\n",
    "site_double_number_new = site_double_number\n",
    "\n",
    "if x[index_change]%L in site_double:\n",
    "    arg_delete = np.argwhere(site_double, x[index_change]%L)[0]\n",
    "    site_double_new = np.delete(site_double, site_double[arg_delete])\n",
    "    site_double_number_new += (-1)\n",
    "\n",
    "if x_new[index_change]%L in site_single:\n",
    "    arg_append = np.argwhere(site_double, x[index_change]%L)[0]\n",
    "    site_double_new = np.delete(site_double, site_double[arg_delete])\n",
    "    site_double_number_new += (-1)\n",
    "\n",
    "\n",
    "# update of determinant\n",
    "\n",
    "first_matrix = phi_0[x]            # TODO: dealing with matrix element = 0\n",
    "first_matrix_inv = np.linalg.inv(first_matrix)\n",
    "first_matrix_det = np.linalg.det(first_matrix)\n",
    "delta_v = U[np.ix_([j],v[0:i+1])] - U[np.ix_([j0],v[0:i+1])]\n",
    "detRatio = 1 + np.dot(first_matrix_inv[:,-1],delta_v[0,:])\n",
    "\n",
    "# Recept in Markov chain\n",
    "r = 0.2\n",
    "if np.random.rand() < np.min(1, r):\n",
    "    pass\n",
    "\n"
   ]
  },
  {
   "cell_type": "code",
   "execution_count": 27,
   "metadata": {},
   "outputs": [],
   "source": [
    "\n"
   ]
  },
  {
   "cell_type": "code",
   "execution_count": null,
   "metadata": {},
   "outputs": [],
   "source": [
    "# energy\n",
    "\n"
   ]
  },
  {
   "cell_type": "code",
   "execution_count": null,
   "metadata": {},
   "outputs": [],
   "source": [
    "# variation\n"
   ]
  },
  {
   "cell_type": "markdown",
   "metadata": {},
   "source": [
    "## Place for simple test"
   ]
  },
  {
   "cell_type": "code",
   "execution_count": 307,
   "metadata": {
    "tags": []
   },
   "outputs": [
    {
     "output_type": "execute_result",
     "data": {
      "text/plain": "2"
     },
     "metadata": {},
     "execution_count": 307
    }
   ],
   "source": [
    "# test\n",
    "8 % 3 "
   ]
  },
  {
   "cell_type": "code",
   "execution_count": null,
   "metadata": {},
   "outputs": [],
   "source": []
  }
 ],
 "metadata": {
  "language_info": {
   "codemirror_mode": {
    "name": "ipython",
    "version": 3
   },
   "file_extension": ".py",
   "mimetype": "text/x-python",
   "name": "python",
   "nbconvert_exporter": "python",
   "pygments_lexer": "ipython3",
   "version": "3.6.5-final"
  },
  "orig_nbformat": 2,
  "kernelspec": {
   "name": "python3",
   "display_name": "Python 3"
  }
 },
 "nbformat": 4,
 "nbformat_minor": 2
}